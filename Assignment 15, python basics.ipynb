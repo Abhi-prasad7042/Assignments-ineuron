{
 "cells": [
  {
   "cell_type": "markdown",
   "id": "57285aa9",
   "metadata": {},
   "source": [
    "### Question1\n",
    "\n",
    "How many seconds are in an hour? Use the interactive interpreter as a calculator and multiply the\n",
    "number of seconds in a minute (60) by the number of minutes in an hour (also 60).\n",
    "\n",
    "### Answer:- **3600**\n"
   ]
  },
  {
   "cell_type": "code",
   "execution_count": 1,
   "id": "db682d5a",
   "metadata": {},
   "outputs": [
    {
     "data": {
      "text/plain": [
       "3600"
      ]
     },
     "execution_count": 1,
     "metadata": {},
     "output_type": "execute_result"
    }
   ],
   "source": [
    "60*60"
   ]
  },
  {
   "cell_type": "markdown",
   "id": "d96fce59",
   "metadata": {},
   "source": [
    "### Question2\n",
    "\n",
    "Assign the result from the previous task (seconds in an hour) to a variable called\n",
    "seconds_per_hour.\n",
    "\n",
    "### Answer:- "
   ]
  },
  {
   "cell_type": "code",
   "execution_count": 2,
   "id": "9577c112",
   "metadata": {},
   "outputs": [],
   "source": [
    "seconds_per_hour = 60*60"
   ]
  },
  {
   "cell_type": "markdown",
   "id": "c0d9e96c",
   "metadata": {},
   "source": [
    "### Question3\n",
    "\n",
    "How many seconds do you think there are in a day? Make use of the variables seconds per hour\n",
    "and minutes per hour.\n",
    "\n",
    "### Answer:- "
   ]
  },
  {
   "cell_type": "code",
   "execution_count": 6,
   "id": "26eafc69",
   "metadata": {},
   "outputs": [
    {
     "data": {
      "text/plain": [
       "86400"
      ]
     },
     "execution_count": 6,
     "metadata": {},
     "output_type": "execute_result"
    }
   ],
   "source": [
    "seconds_per_hour*24"
   ]
  },
  {
   "cell_type": "markdown",
   "id": "1606172f",
   "metadata": {},
   "source": [
    "### Question4\n",
    "\n",
    "Calculate seconds per day again, but this time save the result in a variable called seconds_per_day\n",
    "\n",
    "### Answer:-"
   ]
  },
  {
   "cell_type": "code",
   "execution_count": 7,
   "id": "81d5ee41",
   "metadata": {},
   "outputs": [],
   "source": [
    "seconds_per_day = seconds_per_hour*24"
   ]
  },
  {
   "cell_type": "markdown",
   "id": "da6cb0dc",
   "metadata": {},
   "source": [
    "### Question5\n",
    "\n",
    "Divide seconds_per_day by seconds_per_hour. Use floating-point (/) division.\n",
    "\n",
    "### Answer:-"
   ]
  },
  {
   "cell_type": "code",
   "execution_count": 8,
   "id": "33a66302",
   "metadata": {},
   "outputs": [
    {
     "data": {
      "text/plain": [
       "24.0"
      ]
     },
     "execution_count": 8,
     "metadata": {},
     "output_type": "execute_result"
    }
   ],
   "source": [
    "seconds_per_day/seconds_per_hour"
   ]
  },
  {
   "cell_type": "markdown",
   "id": "e97c7b40",
   "metadata": {},
   "source": [
    "### Question6\n",
    "\n",
    "Divide seconds_per_day by seconds_per_hour, using integer (//) division. Did this number agree\n",
    "with the floating-point value from the previous question, aside from the final .0?\n",
    "\n",
    "### Answer:-"
   ]
  },
  {
   "cell_type": "code",
   "execution_count": 9,
   "id": "61495e07",
   "metadata": {},
   "outputs": [
    {
     "data": {
      "text/plain": [
       "24"
      ]
     },
     "execution_count": 9,
     "metadata": {},
     "output_type": "execute_result"
    }
   ],
   "source": [
    "seconds_per_day//seconds_per_hour"
   ]
  },
  {
   "cell_type": "markdown",
   "id": "85df9a2c",
   "metadata": {},
   "source": [
    "### Question7\n",
    "\n",
    "Write a generator, genPrimes, that returns the sequence of prime numbers on successive calls to\n",
    "its next() method: 2, 3, 5, 7, 11, ...\n",
    "\n",
    "### Answer:-"
   ]
  },
  {
   "cell_type": "code",
   "execution_count": 93,
   "id": "5442d22a",
   "metadata": {},
   "outputs": [],
   "source": [
    "def gen_primes():\n",
    "    n = 2\n",
    "    primes = set()\n",
    "    while True:\n",
    "        for p in primes:\n",
    "            if n % p == 0:\n",
    "                break\n",
    "        else:\n",
    "            primes.add(n)\n",
    "            yield n\n",
    "        n += 1\n",
    "        return primes"
   ]
  },
  {
   "cell_type": "code",
   "execution_count": 94,
   "id": "cfc5774f",
   "metadata": {},
   "outputs": [],
   "source": [
    "a = gen_primes()"
   ]
  },
  {
   "cell_type": "code",
   "execution_count": 95,
   "id": "4f43392f",
   "metadata": {},
   "outputs": [
    {
     "data": {
      "text/plain": [
       "2"
      ]
     },
     "execution_count": 95,
     "metadata": {},
     "output_type": "execute_result"
    }
   ],
   "source": [
    "next(a)"
   ]
  }
 ],
 "metadata": {
  "kernelspec": {
   "display_name": "Python 3 (ipykernel)",
   "language": "python",
   "name": "python3"
  },
  "language_info": {
   "codemirror_mode": {
    "name": "ipython",
    "version": 3
   },
   "file_extension": ".py",
   "mimetype": "text/x-python",
   "name": "python",
   "nbconvert_exporter": "python",
   "pygments_lexer": "ipython3",
   "version": "3.8.11"
  }
 },
 "nbformat": 4,
 "nbformat_minor": 5
}
