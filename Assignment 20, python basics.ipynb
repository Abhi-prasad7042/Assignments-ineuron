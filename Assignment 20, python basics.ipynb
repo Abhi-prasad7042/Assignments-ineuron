{
 "cells": [
  {
   "cell_type": "markdown",
   "id": "1dde225b",
   "metadata": {},
   "source": [
    "### Question1\n",
    "\n",
    "Set the variable test1 to the string 'This is a test of the emergency text system,' and save test1 to a\n",
    "file named test.txt.\n",
    "\n",
    "### Answer:-"
   ]
  },
  {
   "cell_type": "code",
   "execution_count": 1,
   "id": "057d9c86",
   "metadata": {},
   "outputs": [],
   "source": [
    "test1 = \"This is a test of the emergency text system\"\n",
    "\n",
    "f = open(\"test.txt\", \"w\")\n",
    "f.write(test1)\n",
    "f.close()"
   ]
  },
  {
   "cell_type": "code",
   "execution_count": null,
   "id": "03d13291",
   "metadata": {},
   "outputs": [],
   "source": [
    "# For reading the contents of test.txt file run below code\n",
    "%load test.txt\n"
   ]
  },
  {
   "cell_type": "markdown",
   "id": "c76ac10d",
   "metadata": {},
   "source": [
    "### Question2\n",
    "\n",
    "Read the contents of the file test.txt into the variable test2. Is there a difference between test 1\n",
    "and test 2?\n",
    "\n",
    "### Answer:-"
   ]
  },
  {
   "cell_type": "code",
   "execution_count": 2,
   "id": "a6f5deb5",
   "metadata": {},
   "outputs": [
    {
     "name": "stdout",
     "output_type": "stream",
     "text": [
      "This is a test of the emergency text system\n"
     ]
    }
   ],
   "source": [
    "f = open(\"test.txt\",\"r\")\n",
    "test2 = f.read()\n",
    "print(test2)"
   ]
  },
  {
   "cell_type": "markdown",
   "id": "e1b8b55f",
   "metadata": {},
   "source": [
    "### Question3\n",
    "\n",
    "Create a csv file called books.csv by using these lines:\n",
    "\n",
    "`title,author,year\n",
    "The Weirdstone of Brisingamen,Alan Garner,1960\n",
    "Perdido Street Station,China Miéville,2000\n",
    "Thud!,Terry Pratchett,2005\n",
    "The Spellman Files,Lisa Lutz,2007\n",
    "Small Gods,Terry Pratchett,1992`\n",
    "\n",
    "### Answer:-"
   ]
  },
  {
   "cell_type": "code",
   "execution_count": 7,
   "id": "51c90fba",
   "metadata": {},
   "outputs": [],
   "source": [
    "import csv\n",
    "\n",
    "head = [\"title\",\"author\", \"year\"]\n",
    "data = [['The Weirdstone of Brisingamen',\"Alan Garner\",1960],\n",
    "        [\"Perdido Street Station\",\"China Miéville\",2000],\n",
    "        [\"Thud!\",\"Terry Pratchett\",2005],\n",
    "        [\"The Spellman Files\",\"Lisa Lutz\",2007],\n",
    "        [\"Small Gods\",\"Terry Pratchett\",1992]]\n",
    "\n",
    "with open(\"books.csv\",\"w\", encoding=\"UTF-8\") as f:\n",
    "    writer = csv.writer(f)\n",
    "\n",
    "    writer.writerow(head)\n",
    "    writer.writerows(data)\n",
    "    f.close()"
   ]
  },
  {
   "cell_type": "markdown",
   "id": "4df65fb3",
   "metadata": {},
   "source": [
    "### Question4\n",
    "\n",
    "Use the sqlite3 module to create a SQLite database called books.db, and a table called books with\n",
    "these fields: title (text), author (text), and year (integer).\n",
    "\n",
    "### Answer:-"
   ]
  },
  {
   "cell_type": "code",
   "execution_count": 10,
   "id": "6500e404",
   "metadata": {},
   "outputs": [],
   "source": [
    "import sqlite3\n",
    "\n",
    "db = sqlite3.connect(\"books.db\")\n",
    "cursor = db.cursor()\n",
    "\n",
    "cursor.execute(\"create table books(title varchar(200), author varchar(200), year int)\")\n",
    "db.commit()"
   ]
  },
  {
   "cell_type": "markdown",
   "id": "951ef4dd",
   "metadata": {},
   "source": [
    "### Question5\n",
    "\n",
    "Read books.csv and insert its data into the book table.\n",
    "\n",
    "### Answer:-"
   ]
  },
  {
   "cell_type": "code",
   "execution_count": 21,
   "id": "50c03331",
   "metadata": {},
   "outputs": [],
   "source": [
    "import csv\n",
    "\n",
    "with open(\"books.csv\",\"r\") as f:\n",
    "    book = csv.DictReader(f)\n",
    "    for i in book:\n",
    "        cursor.execute(\"insert into books(title,author,year) values (?,?,?)\",(i['title'],i['author'],i['year']))"
   ]
  },
  {
   "cell_type": "code",
   "execution_count": 22,
   "id": "58b09560",
   "metadata": {},
   "outputs": [],
   "source": [
    "db.commit()\n",
    "db.close()"
   ]
  },
  {
   "cell_type": "markdown",
   "id": "afcb7acb",
   "metadata": {},
   "source": [
    "### Question6\n",
    "\n",
    "Select and print the title column from the book table in alphabetical order.\n",
    "\n",
    "### Answer:-"
   ]
  },
  {
   "cell_type": "code",
   "execution_count": 23,
   "id": "51f0fe24",
   "metadata": {},
   "outputs": [
    {
     "data": {
      "text/plain": [
       "<sqlite3.Cursor at 0x1a8a5398b90>"
      ]
     },
     "execution_count": 23,
     "metadata": {},
     "output_type": "execute_result"
    }
   ],
   "source": [
    "db = sqlite3.connect(\"books.db\")\n",
    "cursor = db.cursor()\n",
    "\n",
    "cursor.execute(\"select title from books order by title asc\")"
   ]
  },
  {
   "cell_type": "code",
   "execution_count": 24,
   "id": "9f725ca4",
   "metadata": {},
   "outputs": [
    {
     "data": {
      "text/plain": [
       "[('Perdido Street Station',),\n",
       " ('Small Gods',),\n",
       " ('The Spellman Files',),\n",
       " ('The Weirdstone of Brisingamen',),\n",
       " ('Thud!',)]"
      ]
     },
     "execution_count": 24,
     "metadata": {},
     "output_type": "execute_result"
    }
   ],
   "source": [
    "cursor.fetchall()"
   ]
  },
  {
   "cell_type": "markdown",
   "id": "f6fa76af",
   "metadata": {},
   "source": [
    "### Question7\n",
    "\n",
    "From the book table, select and print all columns in the order of publication.\n",
    "\n",
    "### Answer:-"
   ]
  },
  {
   "cell_type": "code",
   "execution_count": 25,
   "id": "934d6fa7",
   "metadata": {},
   "outputs": [
    {
     "data": {
      "text/plain": [
       "[('The Weirdstone of Brisingamen', 'Alan Garner', 1960),\n",
       " ('Small Gods', 'Terry Pratchett', 1992),\n",
       " ('Perdido Street Station', 'China MiÃ©ville', 2000),\n",
       " ('Thud!', 'Terry Pratchett', 2005),\n",
       " ('The Spellman Files', 'Lisa Lutz', 2007)]"
      ]
     },
     "execution_count": 25,
     "metadata": {},
     "output_type": "execute_result"
    }
   ],
   "source": [
    "cursor.execute(\"select * from books order by year\")\n",
    "cursor.fetchall()"
   ]
  },
  {
   "cell_type": "markdown",
   "id": "62b2ef5b",
   "metadata": {},
   "source": [
    "### Question8\n",
    "\n",
    "Use the sqlalchemy module to connect to the sqlite3 database books.db that you just made in\n",
    "exercise 6.\n",
    "\n",
    "### Answer:-"
   ]
  },
  {
   "cell_type": "code",
   "execution_count": 28,
   "id": "612080a9",
   "metadata": {},
   "outputs": [
    {
     "data": {
      "text/plain": [
       "Engine(sqlite:///books.db)"
      ]
     },
     "execution_count": 28,
     "metadata": {},
     "output_type": "execute_result"
    }
   ],
   "source": [
    "import sqlalchemy\n",
    "\n",
    "db = sqlalchemy.create_engine('sqlite:///books.db')\n",
    "db"
   ]
  },
  {
   "cell_type": "markdown",
   "id": "4b49667e",
   "metadata": {},
   "source": [
    "### Question9\n",
    "\n",
    "Install the Redis server and the Python redis library (pip install redis) on your computer. Create a Redis hash called test with the fields count(1) and name ('Fester Bestertester'). Print all the fields for test.\n",
    "\n",
    "### Answer:-"
   ]
  },
  {
   "cell_type": "code",
   "execution_count": 29,
   "id": "82fdb155",
   "metadata": {},
   "outputs": [
    {
     "name": "stdout",
     "output_type": "stream",
     "text": [
      "Collecting redis\n",
      "  Downloading redis-4.3.3-py3-none-any.whl (244 kB)\n",
      "Requirement already satisfied: packaging>=20.4 in c:\\users\\abhishek\\desktop\\project\\evn\\lib\\site-packages (from redis) (21.0)\n",
      "Collecting async-timeout>=4.0.2\n",
      "  Using cached async_timeout-4.0.2-py3-none-any.whl (5.8 kB)\n",
      "Collecting deprecated>=1.2.3\n",
      "  Downloading Deprecated-1.2.13-py2.py3-none-any.whl (9.6 kB)\n",
      "Requirement already satisfied: wrapt<2,>=1.10 in c:\\users\\abhishek\\desktop\\project\\evn\\lib\\site-packages (from deprecated>=1.2.3->redis) (1.12.1)\n",
      "Requirement already satisfied: pyparsing>=2.0.2 in c:\\users\\abhishek\\desktop\\project\\evn\\lib\\site-packages (from packaging>=20.4->redis) (2.4.7)\n",
      "Installing collected packages: deprecated, async-timeout, redis\n",
      "Successfully installed async-timeout-4.0.2 deprecated-1.2.13 redis-4.3.3\n"
     ]
    }
   ],
   "source": [
    "!pip install redis"
   ]
  },
  {
   "cell_type": "code",
   "execution_count": 37,
   "id": "185c429e",
   "metadata": {},
   "outputs": [],
   "source": [
    "import redis\n",
    "conn = redis.Redis(host='localhost', port=4000, db=0)\n",
    "\n",
    "conn.hset('test',{\n",
    "    'count':1,\n",
    "    'name':'Fester Bestertester'\n",
    "})\n",
    "print(conn)"
   ]
  },
  {
   "cell_type": "markdown",
   "id": "a7843a31",
   "metadata": {},
   "source": [
    "### Question10\n",
    "\n",
    "Increment the count field of test and print it.\n",
    "\n",
    "### Answer:-"
   ]
  },
  {
   "cell_type": "code",
   "execution_count": 39,
   "id": "d69776fc",
   "metadata": {},
   "outputs": [],
   "source": [
    "conn.hincrby('test', 'count', 1)\n",
    "conn.hget('test', 'count')"
   ]
  }
 ],
 "metadata": {
  "kernelspec": {
   "display_name": "Python 3 (ipykernel)",
   "language": "python",
   "name": "python3"
  },
  "language_info": {
   "codemirror_mode": {
    "name": "ipython",
    "version": 3
   },
   "file_extension": ".py",
   "mimetype": "text/x-python",
   "name": "python",
   "nbconvert_exporter": "python",
   "pygments_lexer": "ipython3",
   "version": "3.8.11"
  }
 },
 "nbformat": 4,
 "nbformat_minor": 5
}
