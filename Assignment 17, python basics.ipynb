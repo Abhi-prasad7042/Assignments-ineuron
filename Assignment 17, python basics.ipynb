{
 "cells": [
  {
   "cell_type": "markdown",
   "id": "48195bbc",
   "metadata": {},
   "source": [
    "### Question1\n",
    "\n",
    "Assign the value 7 to the variable guess_me. Then, write the conditional tests (if, else, and elif) to\n",
    "print the string \"too low\" if guess_me is less than 7, \"too high\" if greater than 7, and \"just right\" if equal\n",
    "to 7.\n",
    "\n",
    "### Answer:-"
   ]
  },
  {
   "cell_type": "code",
   "execution_count": 5,
   "id": "a9da99f7",
   "metadata": {},
   "outputs": [
    {
     "name": "stdout",
     "output_type": "stream",
     "text": [
      "just right\n"
     ]
    }
   ],
   "source": [
    "guess_me = 7\n",
    "\n",
    "if guess_me < 7:\n",
    "    print(\"too low\")\n",
    "elif guess_me > 7:\n",
    "    print(\"too high\")\n",
    "else:\n",
    "    print(\"just right\")"
   ]
  },
  {
   "cell_type": "markdown",
   "id": "8a89590e",
   "metadata": {},
   "source": [
    "### Question2\n",
    "\n",
    "Assign the value 7 to the variable guess_me and the value 1 to the variable start. Write a while\n",
    "loop that compares start with guess_me. Print too low if start is less than guess me. If start equals\n",
    "guess_me, print \"found it\" and exit the loop. If start is greater than guess_me, print \"oops\" and exit\n",
    "the loop. Increment start at the end of the loop.\n",
    "\n",
    "### Answer:-"
   ]
  },
  {
   "cell_type": "code",
   "execution_count": 13,
   "id": "32a32269",
   "metadata": {},
   "outputs": [
    {
     "name": "stdout",
     "output_type": "stream",
     "text": [
      "too low\n",
      "too low\n",
      "too low\n",
      "too low\n",
      "too low\n",
      "too low\n",
      "found it\n"
     ]
    }
   ],
   "source": [
    "guess_me = 7\n",
    "\n",
    "start = 1\n",
    "\n",
    "while True:\n",
    "    if start == guess_me:\n",
    "        print(\"found it\")\n",
    "        break\n",
    "    elif start > guess_me:\n",
    "        print(\"oops\")\n",
    "        break\n",
    "    else:\n",
    "        print(\"too low\")\n",
    "        start+=1"
   ]
  },
  {
   "cell_type": "markdown",
   "id": "f6082e53",
   "metadata": {},
   "source": [
    "### Question3\n",
    "\n",
    "Print the following values of the list [3, 2, 1, 0] using a for loop.\n",
    "\n",
    "### Answer:- "
   ]
  },
  {
   "cell_type": "code",
   "execution_count": 14,
   "id": "9b37b6ef",
   "metadata": {},
   "outputs": [
    {
     "name": "stdout",
     "output_type": "stream",
     "text": [
      "3\n",
      "2\n",
      "1\n",
      "0\n"
     ]
    }
   ],
   "source": [
    "li = [3,2,1,0]\n",
    "for i in li:\n",
    "    print(i)"
   ]
  },
  {
   "cell_type": "markdown",
   "id": "26b6aa6a",
   "metadata": {},
   "source": [
    "### Question4\n",
    "\n",
    "Use a list comprehension to make a list of the even numbers in range(10)\n",
    "\n",
    "### Answer:-"
   ]
  },
  {
   "cell_type": "code",
   "execution_count": 15,
   "id": "5ed27135",
   "metadata": {},
   "outputs": [],
   "source": [
    "even_num = [num for num in range(0,10,2)]"
   ]
  },
  {
   "cell_type": "code",
   "execution_count": 16,
   "id": "e003b41d",
   "metadata": {},
   "outputs": [
    {
     "data": {
      "text/plain": [
       "[0, 2, 4, 6, 8]"
      ]
     },
     "execution_count": 16,
     "metadata": {},
     "output_type": "execute_result"
    }
   ],
   "source": [
    "even_num"
   ]
  },
  {
   "cell_type": "markdown",
   "id": "b562f888",
   "metadata": {},
   "source": [
    "### Question5\n",
    "\n",
    "Use a dictionary comprehension to create the dictionary squares. Use range(10) to return the\n",
    "keys, and use the square of each key as its value.\n",
    "\n",
    "### Answer:-"
   ]
  },
  {
   "cell_type": "code",
   "execution_count": 17,
   "id": "7a07bd85",
   "metadata": {},
   "outputs": [
    {
     "name": "stdout",
     "output_type": "stream",
     "text": [
      "{0: 0, 1: 1, 2: 4, 3: 9, 4: 16, 5: 25, 6: 36, 7: 49, 8: 64, 9: 81}\n"
     ]
    }
   ],
   "source": [
    "sqr_dict = {i:i**2 for i in range(10)}\n",
    "print(sqr_dict)"
   ]
  },
  {
   "cell_type": "markdown",
   "id": "028f59af",
   "metadata": {},
   "source": [
    "### Question6\n",
    "\n",
    "Construct the set odd from the odd numbers in the range using a set comprehension (10).\n",
    "\n",
    "### Answer:-"
   ]
  },
  {
   "cell_type": "code",
   "execution_count": 23,
   "id": "f1c631e4",
   "metadata": {},
   "outputs": [
    {
     "name": "stdout",
     "output_type": "stream",
     "text": [
      "{1, 3, 5, 7, 9}\n"
     ]
    }
   ],
   "source": [
    "print(set(i for i in range(10) if i%2!=0))"
   ]
  },
  {
   "cell_type": "markdown",
   "id": "99a3f69b",
   "metadata": {},
   "source": [
    "### Question7\n",
    "\n",
    "Use a generator comprehension to return the string 'Got' and a number for the numbers in\n",
    "range(10). Iterate through this by using a for loop.\n",
    "\n",
    "### Answer:-"
   ]
  },
  {
   "cell_type": "code",
   "execution_count": 27,
   "id": "53d88f5d",
   "metadata": {},
   "outputs": [
    {
     "name": "stdout",
     "output_type": "stream",
     "text": [
      "Got 0\n",
      "Got 1\n",
      "Got 2\n",
      "Got 3\n",
      "Got 4\n",
      "Got 5\n",
      "Got 6\n",
      "Got 7\n",
      "Got 8\n",
      "Got 9\n"
     ]
    }
   ],
   "source": [
    "gen_com = (\"Got \"+str(i) for i in range(10))\n",
    "for i in gen_com:\n",
    "    print(i)"
   ]
  },
  {
   "cell_type": "markdown",
   "id": "9a505636",
   "metadata": {},
   "source": [
    "### Question8\n",
    "\n",
    "Define a function called good that returns the list ['Harry', 'Ron', 'Hermione'].\n",
    "\n",
    "### Answer:-"
   ]
  },
  {
   "cell_type": "code",
   "execution_count": 28,
   "id": "e5a944bb",
   "metadata": {},
   "outputs": [],
   "source": [
    "def good():\n",
    "    li = [\"Harry\",\"Ron\",\"Hermione\"]\n",
    "    return li"
   ]
  },
  {
   "cell_type": "code",
   "execution_count": 29,
   "id": "9c539a4c",
   "metadata": {},
   "outputs": [
    {
     "data": {
      "text/plain": [
       "['Harry', 'Ron', 'Hermione']"
      ]
     },
     "execution_count": 29,
     "metadata": {},
     "output_type": "execute_result"
    }
   ],
   "source": [
    "good()"
   ]
  },
  {
   "cell_type": "markdown",
   "id": "91510c4f",
   "metadata": {},
   "source": [
    "### Question9\n",
    "\n",
    "Define a generator function called get_odds that returns the odd numbers from range(10). Use a\n",
    "for loop to find and print the third value returned.\n",
    "\n",
    "### Answer:-"
   ]
  },
  {
   "cell_type": "code",
   "execution_count": 30,
   "id": "f1e53072",
   "metadata": {},
   "outputs": [],
   "source": [
    "def get_odds():\n",
    "    for i in range(10):\n",
    "        if i%2!=0:\n",
    "            print(i)"
   ]
  },
  {
   "cell_type": "code",
   "execution_count": 31,
   "id": "3100be97",
   "metadata": {},
   "outputs": [
    {
     "name": "stdout",
     "output_type": "stream",
     "text": [
      "1\n",
      "3\n",
      "5\n",
      "7\n",
      "9\n"
     ]
    }
   ],
   "source": [
    "get_odds()"
   ]
  },
  {
   "cell_type": "markdown",
   "id": "b5d3b374",
   "metadata": {},
   "source": [
    "### Question10\n",
    "\n",
    "Define an exception called OopsException. Raise this exception to see what happens. Then write\n",
    "the code to catch this exception and print 'Caught an oops'.\n",
    "\n",
    "### Answer:-"
   ]
  },
  {
   "cell_type": "code",
   "execution_count": 34,
   "id": "4615c25a",
   "metadata": {},
   "outputs": [],
   "source": [
    "class OopsException(Exception):\n",
    "    pass\n",
    "\n",
    "def _a(num):\n",
    "    if num<0:\n",
    "        raise OopsException(a)"
   ]
  },
  {
   "cell_type": "code",
   "execution_count": 38,
   "id": "5c7425fb",
   "metadata": {},
   "outputs": [
    {
     "name": "stdout",
     "output_type": "stream",
     "text": [
      "OopsException:-  name 'a' is not defined\n"
     ]
    }
   ],
   "source": [
    "try:\n",
    "    _a(-1)\n",
    "except Exception as e:\n",
    "    print(\"OopsException:- \",e)"
   ]
  },
  {
   "cell_type": "markdown",
   "id": "74ac54a8",
   "metadata": {},
   "source": [
    "### Question11\n",
    "\n",
    "Use zip() to make a dictionary called movies that pairs these lists: titles=[\"Creatue of Habit\", \"Crewel Fate\"] and plots = [\"A nun turns into a monster', 'A haunted yarn shop'].\n",
    "\n",
    "### Answer:-"
   ]
  },
  {
   "cell_type": "code",
   "execution_count": 40,
   "id": "9f89ad9f",
   "metadata": {},
   "outputs": [],
   "source": [
    "titles = [\"Creatue of Habit\", \"Crewel Fate\"]\n",
    "plots = [\"A nun turns into a monster\", \"A haunted yarn shop\"]"
   ]
  },
  {
   "cell_type": "code",
   "execution_count": 42,
   "id": "ac711ac5",
   "metadata": {},
   "outputs": [],
   "source": [
    "a = zip(titles,plots)"
   ]
  },
  {
   "cell_type": "code",
   "execution_count": 45,
   "id": "8a59d7a4",
   "metadata": {},
   "outputs": [
    {
     "data": {
      "text/plain": [
       "{'Creatue of Habit': 'A nun turns into a monster',\n",
       " 'Crewel Fate': 'A haunted yarn shop'}"
      ]
     },
     "execution_count": 45,
     "metadata": {},
     "output_type": "execute_result"
    }
   ],
   "source": [
    "dict(a)"
   ]
  }
 ],
 "metadata": {
  "kernelspec": {
   "display_name": "Python 3 (ipykernel)",
   "language": "python",
   "name": "python3"
  },
  "language_info": {
   "codemirror_mode": {
    "name": "ipython",
    "version": 3
   },
   "file_extension": ".py",
   "mimetype": "text/x-python",
   "name": "python",
   "nbconvert_exporter": "python",
   "pygments_lexer": "ipython3",
   "version": "3.8.11"
  }
 },
 "nbformat": 4,
 "nbformat_minor": 5
}
