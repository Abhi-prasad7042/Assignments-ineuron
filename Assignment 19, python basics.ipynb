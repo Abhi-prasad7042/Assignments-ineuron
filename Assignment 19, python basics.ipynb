{
 "cells": [
  {
   "cell_type": "markdown",
   "id": "a12de351",
   "metadata": {},
   "source": [
    "### Question1\n",
    "\n",
    "Make a class called Thing with no contents and print it. Then, create an object called example\n",
    "from this class and also print it. Are the printed values the same or different?\n",
    "\n",
    "### Answer:-"
   ]
  },
  {
   "cell_type": "code",
   "execution_count": 4,
   "id": "457e7798",
   "metadata": {},
   "outputs": [
    {
     "name": "stdout",
     "output_type": "stream",
     "text": [
      "<class '__main__.thing'>\n",
      "<__main__.thing object at 0x0000023A5799B340>\n"
     ]
    }
   ],
   "source": [
    "class thing:\n",
    "    pass\n",
    "\n",
    "print(thing)\n",
    "check  = thing()\n",
    "print(check)"
   ]
  },
  {
   "cell_type": "markdown",
   "id": "ca637eaf",
   "metadata": {},
   "source": [
    "### Question2\n",
    "\n",
    "Create a new class called Thing2 and add the value \"abc\" to the letters class attribute. Letters\n",
    "should be printed.\n",
    "\n",
    "### Answer:-"
   ]
  },
  {
   "cell_type": "code",
   "execution_count": 6,
   "id": "f3c4e6dc",
   "metadata": {},
   "outputs": [
    {
     "name": "stdout",
     "output_type": "stream",
     "text": [
      "<class '__main__.Thing2'>\n",
      "abc\n"
     ]
    }
   ],
   "source": [
    "class Thing2:\n",
    "    letters = \"abc\"\n",
    "    \n",
    "print(Thing2)\n",
    "print(Thing2.letters)"
   ]
  },
  {
   "cell_type": "markdown",
   "id": "4afe2402",
   "metadata": {},
   "source": [
    "### Question3\n",
    "\n",
    "Make yet another class called, of course, Thing3. This time, assign the value \"xyz\" to an instance\n",
    "(object) attribute called letters. Print letters. Do you need to make an object from the class to do\n",
    "this?\n",
    "\n",
    "### Answer:-"
   ]
  },
  {
   "cell_type": "code",
   "execution_count": 14,
   "id": "c9562cee",
   "metadata": {},
   "outputs": [
    {
     "name": "stdout",
     "output_type": "stream",
     "text": [
      "xyz\n"
     ]
    }
   ],
   "source": [
    "class Thing3:\n",
    "    \n",
    "    def __init__(self):\n",
    "        self.letters = \"xyz\"\n",
    "        \n",
    "try: \n",
    "    print(Thing3.letters)\n",
    "    \n",
    "except:\n",
    "    thg = Thing3()\n",
    "    print(thg.letters)"
   ]
  },
  {
   "cell_type": "markdown",
   "id": "c97da114",
   "metadata": {},
   "source": [
    "### Question4\n",
    "\n",
    "Create an Element class with the instance attributes name, symbol, and number. Create a class\n",
    "object with the values 'Hydrogen,' 'H', and 1.\n",
    "\n",
    "### Answer:-"
   ]
  },
  {
   "cell_type": "code",
   "execution_count": 16,
   "id": "177bc574",
   "metadata": {},
   "outputs": [],
   "source": [
    "class Element:\n",
    "    def __init__(self,name,symbol,number):\n",
    "        self.name = name\n",
    "        self.symbol = symbol\n",
    "        self.number = number\n",
    "        \n",
    "ele = Element(\"Hydrogen\",\"H\",1)"
   ]
  },
  {
   "cell_type": "markdown",
   "id": "3752c04d",
   "metadata": {},
   "source": [
    "### Question5\n",
    "\n",
    "Make a dictionary with these keys and values: 'name':\"Hydrogen\",\"symbol\":\"H\", \"number\":1. Then, create an object called hydrogen from class Element using this dictionary.\n",
    "\n",
    "### Answer:-"
   ]
  },
  {
   "cell_type": "code",
   "execution_count": 21,
   "id": "43293ffd",
   "metadata": {},
   "outputs": [
    {
     "name": "stdout",
     "output_type": "stream",
     "text": [
      "Hydrogen H 1\n"
     ]
    }
   ],
   "source": [
    "dic = {'name':\"Hydrogen\",\"symbol\":\"H\", \"number\":1}\n",
    "\n",
    "hydrogen = Element(*dic.values())\n",
    "print(hydrogen.name, hydrogen.symbol, hydrogen.number)"
   ]
  },
  {
   "cell_type": "markdown",
   "id": "b0b6e1b5",
   "metadata": {},
   "source": [
    "### Question6\n",
    "\n",
    "For the Element class, define a method called dump() that prints the values of object's attributes (name,symbol, and number). Create the hydrogen object from this new definition and use dump() to print its attributes.\n",
    "\n",
    "### Answer:-"
   ]
  },
  {
   "cell_type": "code",
   "execution_count": 23,
   "id": "90bb5e3d",
   "metadata": {},
   "outputs": [
    {
     "name": "stdout",
     "output_type": "stream",
     "text": [
      "Hydogen H 1\n"
     ]
    }
   ],
   "source": [
    "class Element:\n",
    "    def __init__(self,name,symbol,number):\n",
    "        self.name = name\n",
    "        self.symbol = symbol\n",
    "        self.number = number\n",
    "        \n",
    "    def dump(self):\n",
    "        return \"{} {} {}\".format(self.name,self.symbol,self.number)\n",
    "    \n",
    "hydrogen = Element(\"Hydogen\", \"H\",1)\n",
    "print(hydrogen.dump())"
   ]
  },
  {
   "cell_type": "markdown",
   "id": "e23e1210",
   "metadata": {},
   "source": [
    "### Question7\n",
    "\n",
    "Call print(hydrogen). In the definition of Element, change the name of method dump to __str__ create new hydrogen object, and call print(hydrogen) again.\n",
    "\n",
    "### Answer:-"
   ]
  },
  {
   "cell_type": "code",
   "execution_count": 26,
   "id": "af4abb3e",
   "metadata": {},
   "outputs": [
    {
     "name": "stdout",
     "output_type": "stream",
     "text": [
      "<__main__.Element object at 0x0000023A595A6130>\n"
     ]
    }
   ],
   "source": [
    "print(hydrogen)"
   ]
  },
  {
   "cell_type": "code",
   "execution_count": 27,
   "id": "6a47cbf3",
   "metadata": {},
   "outputs": [
    {
     "name": "stdout",
     "output_type": "stream",
     "text": [
      "Hydogen H 1\n"
     ]
    }
   ],
   "source": [
    "class Element:\n",
    "    def __init__(self,name,symbol,number):\n",
    "        self.name = name\n",
    "        self.symbol = symbol\n",
    "        self.number = number\n",
    "        \n",
    "    def __str__(self):\n",
    "        return \"{} {} {}\".format(self.name,self.symbol,self.number)\n",
    "    \n",
    "hydrogen = Element(\"Hydogen\", \"H\",1)\n",
    "print(hydrogen)"
   ]
  },
  {
   "cell_type": "markdown",
   "id": "1a0952eb",
   "metadata": {},
   "source": [
    "### Question8\n",
    "\n",
    "Modify Element to make the attributes name, symbol, and number private. Define a getter property for each to return its value.\n",
    "\n",
    "### Answer:-"
   ]
  },
  {
   "cell_type": "code",
   "execution_count": 36,
   "id": "72aba572",
   "metadata": {},
   "outputs": [
    {
     "name": "stdout",
     "output_type": "stream",
     "text": [
      "Hydrogen\n",
      "H\n",
      "1\n"
     ]
    }
   ],
   "source": [
    "class Element:\n",
    "    def __init__(self,name,symbol,number):\n",
    "        self.__name = name\n",
    "        self.__symbol = symbol\n",
    "        self.__number = number\n",
    "        \n",
    "    @property\n",
    "    def get_name(self):\n",
    "        return self.__name\n",
    "    \n",
    "    @property\n",
    "    def get_symbol(self):\n",
    "        return self.__symbol\n",
    "    \n",
    "    @property\n",
    "    def get_number(self):\n",
    "        return self.__number\n",
    "    \n",
    "hydrogen = Element('Hydrogen','H',1)\n",
    "print(hydrogen.get_name)\n",
    "print(hydrogen.get_symbol)\n",
    "print(hydrogen.get_number)"
   ]
  },
  {
   "cell_type": "code",
   "execution_count": 33,
   "id": "d8fb416a",
   "metadata": {},
   "outputs": [
    {
     "name": "stdout",
     "output_type": "stream",
     "text": [
      "Hydogen H 1\n"
     ]
    }
   ],
   "source": [
    "hydrogen = Element(\"Hydogen\", \"H\",1)\n",
    "print(hydrogen.get_attr())"
   ]
  },
  {
   "cell_type": "markdown",
   "id": "7685e73d",
   "metadata": {},
   "source": [
    "### Question9\n",
    "\n",
    "Define three classes: Bear, Rabbit, and Octothorpe. For each, define only one method: eats(). This\n",
    "should return 'berries'(Bear), 'clover'(Rabbit), or 'campers'(Octothorpe). Create one object from\n",
    "each and print what it eats.\n",
    "\n",
    "### Answer:-"
   ]
  },
  {
   "cell_type": "code",
   "execution_count": 38,
   "id": "f6fcbd9d",
   "metadata": {},
   "outputs": [
    {
     "name": "stdout",
     "output_type": "stream",
     "text": [
      "berries\n",
      "clover\n",
      "campers\n"
     ]
    }
   ],
   "source": [
    "class Bear:\n",
    "    def eats(self):\n",
    "        return \"berries\"\n",
    "    \n",
    "class Rabbit:\n",
    "    def eats(self):\n",
    "        return \"clover\"\n",
    "\n",
    "class Octothorpe:\n",
    "    def eats(self):\n",
    "        return \"campers\"\n",
    "    \n",
    "bear = Bear()\n",
    "rabbit = Rabbit()\n",
    "octoth = Octothorpe()\n",
    "\n",
    "print(bear.eats())\n",
    "print(rabbit.eats())\n",
    "print(octoth.eats())"
   ]
  },
  {
   "cell_type": "markdown",
   "id": "ac44b036",
   "metadata": {},
   "source": [
    "### Question10\n",
    "\n",
    "Define these classes: Laser, Claw, and SmartPhone. Each has only one method: does(). This returns  \"disintegrate'(Laser), 'crush'(Claw), or 'ring'(SmartPhone). Then, define the class Robot that has on instance(object) of each of these. Define a does() method for the Robot that prints what its component objects do.\n",
    "\n",
    "### Answer:-"
   ]
  },
  {
   "cell_type": "code",
   "execution_count": 39,
   "id": "d398d1c9",
   "metadata": {},
   "outputs": [],
   "source": [
    "class Laser:\n",
    "    def does(self):\n",
    "        return \"disintegrate\"\n",
    "\n",
    "class Claw:\n",
    "    def does(self):\n",
    "        return \"crush\"\n",
    "    \n",
    "class SmartPhone:\n",
    "    def does(self):\n",
    "        return \"ring\"\n",
    "    \n",
    "class Robot:\n",
    "    \n",
    "    def __init__(self):\n",
    "        self.laser = Laser()\n",
    "        self.claw  = Claw()\n",
    "        self.smartphone = SmartPhone()\n",
    "        \n",
    "    def does(self):\n",
    "        print(self.laser.does(), self.claw.does(), self.smartphone.does())"
   ]
  },
  {
   "cell_type": "code",
   "execution_count": 41,
   "id": "55ae2acb",
   "metadata": {},
   "outputs": [
    {
     "name": "stdout",
     "output_type": "stream",
     "text": [
      "disintegrate crush ring\n"
     ]
    }
   ],
   "source": [
    "rob = Robot()\n",
    "rob.does()"
   ]
  }
 ],
 "metadata": {
  "kernelspec": {
   "display_name": "Python 3 (ipykernel)",
   "language": "python",
   "name": "python3"
  },
  "language_info": {
   "codemirror_mode": {
    "name": "ipython",
    "version": 3
   },
   "file_extension": ".py",
   "mimetype": "text/x-python",
   "name": "python",
   "nbconvert_exporter": "python",
   "pygments_lexer": "ipython3",
   "version": "3.8.11"
  }
 },
 "nbformat": 4,
 "nbformat_minor": 5
}
