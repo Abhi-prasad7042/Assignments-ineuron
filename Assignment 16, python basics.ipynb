{
 "cells": [
  {
   "cell_type": "markdown",
   "id": "194b7775",
   "metadata": {},
   "source": [
    "### Question1\n",
    "\n",
    "Create a list called years_list, starting with the year of your birth, and each year thereafter until\n",
    "the year of your fifth birthday. For example, if you were born in 1980. the list would be years_list =\n",
    "[1980, 1981, 1982, 1983, 1984, 1985].\n",
    "\n",
    "### Answer:-"
   ]
  },
  {
   "cell_type": "code",
   "execution_count": 1,
   "id": "c69fdc89",
   "metadata": {},
   "outputs": [],
   "source": [
    "years_list = [1999,2000,2001,2002,2003]"
   ]
  },
  {
   "cell_type": "markdown",
   "id": "38d554a1",
   "metadata": {},
   "source": [
    "### Question2\n",
    "\n",
    "In which year in years_list was your third birthday? Remember, you were 0 years of age for your\n",
    "first year.\n",
    "\n",
    "### Answer:-"
   ]
  },
  {
   "cell_type": "code",
   "execution_count": 2,
   "id": "8f698389",
   "metadata": {},
   "outputs": [
    {
     "data": {
      "text/plain": [
       "2002"
      ]
     },
     "execution_count": 2,
     "metadata": {},
     "output_type": "execute_result"
    }
   ],
   "source": [
    "years_list[3]"
   ]
  },
  {
   "cell_type": "markdown",
   "id": "1ce2f93f",
   "metadata": {},
   "source": [
    "### Question3\n",
    "\n",
    "In the years list, which year were you the oldest?\n",
    "\n",
    "### Answer:-"
   ]
  },
  {
   "cell_type": "code",
   "execution_count": 3,
   "id": "5c5ff1e5",
   "metadata": {},
   "outputs": [
    {
     "data": {
      "text/plain": [
       "2003"
      ]
     },
     "execution_count": 3,
     "metadata": {},
     "output_type": "execute_result"
    }
   ],
   "source": [
    "years_list[-1]"
   ]
  },
  {
   "cell_type": "markdown",
   "id": "c1323543",
   "metadata": {},
   "source": [
    "### Question4\n",
    "\n",
    "Make a list called things with these three strings as elements: \"mozzarella\", \"cinderella\",\n",
    "\"salmonella\".\n",
    "\n",
    "### Answer:-"
   ]
  },
  {
   "cell_type": "code",
   "execution_count": 7,
   "id": "815b742d",
   "metadata": {},
   "outputs": [],
   "source": [
    "things = [\"mozzarella\",\"cinderella\",\"salmonella\"]"
   ]
  },
  {
   "cell_type": "markdown",
   "id": "bfdd0388",
   "metadata": {},
   "source": [
    "### Question5\n",
    "\n",
    "Capitalize the element in things that refers to a person and then print the list. Did it change the\n",
    "element in the list?\n",
    "\n",
    "### Answer:-"
   ]
  },
  {
   "cell_type": "code",
   "execution_count": 19,
   "id": "f342a3d8",
   "metadata": {},
   "outputs": [
    {
     "data": {
      "text/plain": [
       "['mozzarella', 'CINDERELLA', 'salmonella']"
      ]
     },
     "execution_count": 19,
     "metadata": {},
     "output_type": "execute_result"
    }
   ],
   "source": [
    "for i in range(len(things)):\n",
    "    if things[i] == \"cinderella\":\n",
    "        things[i] = things[i].upper()\n",
    "    else:\n",
    "        things[i] = things[i]\n",
    "\n",
    "things"
   ]
  },
  {
   "cell_type": "markdown",
   "id": "cf3bb7dc",
   "metadata": {},
   "source": [
    "### Question6\n",
    "\n",
    "Make a surprise list with the elements \"Groucho\", \"Chico,\" and \"Harpo.\"\n",
    "\n",
    "### Answer:-"
   ]
  },
  {
   "cell_type": "code",
   "execution_count": 15,
   "id": "b87f7fba",
   "metadata": {},
   "outputs": [],
   "source": [
    "surprise = [\"Groucho\",\"Chico\",\"Harpo\"]"
   ]
  },
  {
   "cell_type": "markdown",
   "id": "3dbd7ac6",
   "metadata": {},
   "source": [
    "### Question7\n",
    "\n",
    "Lowercase the last element of the surprise list, reverse it, and then capitalize it.\n",
    "\n",
    "### Answer:-"
   ]
  },
  {
   "cell_type": "code",
   "execution_count": 38,
   "id": "2ae6ab1e",
   "metadata": {},
   "outputs": [],
   "source": [
    "for i in range(len(surprise)):\n",
    "    if surprise[i]==surprise[-1]:\n",
    "        surprise[i]= surprise[i].lower()\n",
    "        surprise[i] = surprise[i][::-1].capitalize()"
   ]
  },
  {
   "cell_type": "code",
   "execution_count": 39,
   "id": "e208dc50",
   "metadata": {},
   "outputs": [
    {
     "data": {
      "text/plain": [
       "['Groucho', 'Chico', 'Oprah']"
      ]
     },
     "execution_count": 39,
     "metadata": {},
     "output_type": "execute_result"
    }
   ],
   "source": [
    "surprise"
   ]
  },
  {
   "cell_type": "markdown",
   "id": "370ceaea",
   "metadata": {},
   "source": [
    "### Question8\n",
    "\n",
    "Make an English-to-French dictionary called e2f and print it. Here are your starter words: dog is\n",
    "chien, cat is chat, and walrus is morse.\n",
    "\n",
    "### Answer:-"
   ]
  },
  {
   "cell_type": "code",
   "execution_count": 40,
   "id": "beafef30",
   "metadata": {},
   "outputs": [
    {
     "name": "stdout",
     "output_type": "stream",
     "text": [
      "{'dog': 'chien', 'cat': 'chat', 'walrus': 'morse'}\n"
     ]
    }
   ],
   "source": [
    "e2f = {\"dog\":\"chien\", \"cat\":\"chat\", \"walrus\":\"morse\"}\n",
    "print(e2f)"
   ]
  },
  {
   "cell_type": "markdown",
   "id": "51fbebbb",
   "metadata": {},
   "source": [
    "### Question9\n",
    "\n",
    "Write the French word for walrus in your three-word dictionary e2f.\n",
    "\n",
    "### Answer:-"
   ]
  },
  {
   "cell_type": "code",
   "execution_count": 42,
   "id": "841fc210",
   "metadata": {},
   "outputs": [
    {
     "name": "stdout",
     "output_type": "stream",
     "text": [
      "morse\n"
     ]
    }
   ],
   "source": [
    "print(e2f[\"walrus\"])"
   ]
  },
  {
   "cell_type": "code",
   "execution_count": 43,
   "id": "b30a38fd",
   "metadata": {},
   "outputs": [
    {
     "name": "stdout",
     "output_type": "stream",
     "text": [
      "morse\n"
     ]
    }
   ],
   "source": [
    "print(e2f.get(\"walrus\"))"
   ]
  },
  {
   "cell_type": "markdown",
   "id": "4d24de02",
   "metadata": {},
   "source": [
    "### Question10\n",
    "\n",
    "Make a French-to-English dictionary called f2e from e2f. Use the items method.\n",
    "\n",
    "### Answer:-"
   ]
  },
  {
   "cell_type": "code",
   "execution_count": 56,
   "id": "8ed13130",
   "metadata": {},
   "outputs": [
    {
     "name": "stdout",
     "output_type": "stream",
     "text": [
      "('chien', 'dog')\n",
      "('chat', 'cat')\n",
      "('morse', 'walrus')\n"
     ]
    }
   ],
   "source": [
    "for i in e2f.items():\n",
    "    print(i[::-1])\n"
   ]
  },
  {
   "cell_type": "code",
   "execution_count": 61,
   "id": "1c94201e",
   "metadata": {},
   "outputs": [],
   "source": [
    "f2e = dict([i[::-1] for i in e2f.items()])"
   ]
  },
  {
   "cell_type": "code",
   "execution_count": 62,
   "id": "815a03b7",
   "metadata": {},
   "outputs": [
    {
     "name": "stdout",
     "output_type": "stream",
     "text": [
      "{'chien': 'dog', 'chat': 'cat', 'morse': 'walrus'}\n"
     ]
    }
   ],
   "source": [
    "print(f2e)"
   ]
  },
  {
   "cell_type": "markdown",
   "id": "9fb8e357",
   "metadata": {},
   "source": [
    "### Question11\n",
    "\n",
    "Print the English version of the French word chien using f2e.\n",
    "\n",
    "### Answer:-"
   ]
  },
  {
   "cell_type": "code",
   "execution_count": 63,
   "id": "574384a0",
   "metadata": {},
   "outputs": [
    {
     "name": "stdout",
     "output_type": "stream",
     "text": [
      "dog\n"
     ]
    }
   ],
   "source": [
    "print(f2e[\"chien\"])"
   ]
  },
  {
   "cell_type": "markdown",
   "id": "7cf4cd21",
   "metadata": {},
   "source": [
    "### Question12\n",
    "\n",
    "Make and print a set of English words from the keys in e2f.\n",
    "\n",
    "### Answer:-"
   ]
  },
  {
   "cell_type": "code",
   "execution_count": 65,
   "id": "336d7a04",
   "metadata": {},
   "outputs": [
    {
     "name": "stdout",
     "output_type": "stream",
     "text": [
      "{'cat', 'walrus', 'dog'}\n"
     ]
    }
   ],
   "source": [
    "keys_e2f = set(e2f.keys())\n",
    "print(keys_e2f)"
   ]
  },
  {
   "cell_type": "markdown",
   "id": "8cbc8202",
   "metadata": {},
   "source": [
    "### Question13\n",
    "\n",
    "Make a multilevel dictionary called life. Use these strings for the topmost keys: 'animals', 'plants', and 'other'. Make the 'animals' key refer to another dictionary with the keys 'cats', 'octopi', and 'emus'. Make the 'cats' key refer to a list of strings with the values 'Henri', 'Grumpy' and 'Lucy'. \n",
    "Make all the others refer t empty dictionaries.\n",
    "\n",
    "### Answer:-"
   ]
  },
  {
   "cell_type": "code",
   "execution_count": 73,
   "id": "431a239e",
   "metadata": {},
   "outputs": [],
   "source": [
    "life = {\n",
    "    'animals':{\"cats\":[\"Henri\",\"Grumpy\",\"Lucy\"],\n",
    "               \"octopi\":dict(),\"emus\":dict()}, \n",
    "    'plants':dict(), \n",
    "    'other':dict()\n",
    "}"
   ]
  },
  {
   "cell_type": "markdown",
   "id": "f5feeaa0",
   "metadata": {},
   "source": [
    "### Question14\n",
    "\n",
    "Print the top-level keys of life.\n",
    "\n",
    "### Answer:-"
   ]
  },
  {
   "cell_type": "code",
   "execution_count": 76,
   "id": "90671de5",
   "metadata": {},
   "outputs": [
    {
     "name": "stdout",
     "output_type": "stream",
     "text": [
      "dict_keys(['animals', 'plants', 'other'])\n"
     ]
    }
   ],
   "source": [
    "print(life.keys())"
   ]
  },
  {
   "cell_type": "markdown",
   "id": "0ae658b4",
   "metadata": {},
   "source": [
    "### Question15\n",
    "\n",
    "Print the keys for life['animals'].\n",
    "\n",
    "### Answer:-"
   ]
  },
  {
   "cell_type": "code",
   "execution_count": 85,
   "id": "1434f887",
   "metadata": {},
   "outputs": [
    {
     "name": "stdout",
     "output_type": "stream",
     "text": [
      "dict_keys(['cats', 'octopi', 'emus'])\n"
     ]
    }
   ],
   "source": [
    "print(life['animals'].keys())"
   ]
  },
  {
   "cell_type": "markdown",
   "id": "bca022fb",
   "metadata": {},
   "source": [
    "### Question16\n",
    "\n",
    "Print the values for life['animals']['cat']\n",
    "\n",
    "### Answer:-"
   ]
  },
  {
   "cell_type": "code",
   "execution_count": 83,
   "id": "e368acef",
   "metadata": {},
   "outputs": [
    {
     "name": "stdout",
     "output_type": "stream",
     "text": [
      "['Henri', 'Grumpy', 'Lucy']\n"
     ]
    }
   ],
   "source": [
    "print(life[\"animals\"]['cats'])"
   ]
  }
 ],
 "metadata": {
  "kernelspec": {
   "display_name": "Python 3 (ipykernel)",
   "language": "python",
   "name": "python3"
  },
  "language_info": {
   "codemirror_mode": {
    "name": "ipython",
    "version": 3
   },
   "file_extension": ".py",
   "mimetype": "text/x-python",
   "name": "python",
   "nbconvert_exporter": "python",
   "pygments_lexer": "ipython3",
   "version": "3.8.11"
  }
 },
 "nbformat": 4,
 "nbformat_minor": 5
}
