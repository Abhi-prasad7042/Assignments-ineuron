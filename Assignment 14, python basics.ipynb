{
 "cells": [
  {
   "cell_type": "markdown",
   "id": "174a72b2",
   "metadata": {},
   "source": [
    "### Question1\n",
    "\n",
    "What does RGBA stand for?\n",
    "\n",
    "### Answer:-\n",
    "\n",
    "RGBA stands for `Red Green Blue Alpha`."
   ]
  },
  {
   "cell_type": "markdown",
   "id": "c8cf83fb",
   "metadata": {},
   "source": [
    "### Question2\n",
    "\n",
    "From the Pillow module, how do you get the RGBA value of any images?\n",
    "\n",
    "### Answer:-\n",
    "\n",
    "To get RGBA value of any image we can use `.getdata()` it will give all the RGBA values"
   ]
  },
  {
   "cell_type": "code",
   "execution_count": 14,
   "id": "09064f43",
   "metadata": {},
   "outputs": [],
   "source": [
    "# from PIL import Image\n",
    "# img = Image.open(\"image/car-photo.png\")\n",
    "# rgba = img.convert(img)\n",
    "# data = rbga.getdata()\n",
    "# for i in data:\n",
    "#     print(i)"
   ]
  },
  {
   "cell_type": "markdown",
   "id": "6d8bafe6",
   "metadata": {},
   "source": [
    "### Question3\n",
    "\n",
    "What is a box tuple, and how does it work?\n",
    "\n",
    "### Answer:-\n",
    "\n",
    "`box.tuple` is python module which gives read-only access for the tuple data type. There lots of functions in box.tuple like `box.tuple.new()` creates new tuple like this."
   ]
  },
  {
   "cell_type": "markdown",
   "id": "8f3e1689",
   "metadata": {},
   "source": [
    "### Question4\n",
    "\n",
    "Use your image and load in notebook then, How can you find out the width and height of an image object?\n",
    "\n",
    "### Answer:-\n",
    "\n",
    "`img.size` gives the width and height of an image object."
   ]
  },
  {
   "cell_type": "code",
   "execution_count": 19,
   "id": "76f0ba66",
   "metadata": {},
   "outputs": [
    {
     "name": "stdout",
     "output_type": "stream",
     "text": [
      "(575, 431)\n"
     ]
    }
   ],
   "source": [
    "img = Image.open(\"image/car-photo.png\")\n",
    "print(img.size)"
   ]
  },
  {
   "cell_type": "markdown",
   "id": "2e7f9e51",
   "metadata": {},
   "source": [
    "### Question5\n",
    "\n",
    "What method would you call to get Image object for a 100*100 image, excluding the lower-left quarter of it?\n",
    "\n",
    "### Answer:-\n",
    "\n",
    "We can resize the image of 100 by 100."
   ]
  },
  {
   "cell_type": "code",
   "execution_count": 24,
   "id": "5f1232ca",
   "metadata": {},
   "outputs": [],
   "source": [
    "img = Image.open(\"image/car-photo.png\")\n",
    "width, height = img.size\n",
    "img = img.resize((100,100))"
   ]
  },
  {
   "cell_type": "markdown",
   "id": "7de0b15d",
   "metadata": {},
   "source": [
    "### Question6\n",
    "\n",
    "After making changes to an image object, how could you save it as an image file?\n",
    "\n",
    "### Answer:-\n",
    "\n",
    "we can save image like this `image_object.save(filename)` and we have declare the format in filename like jpg or png."
   ]
  },
  {
   "cell_type": "markdown",
   "id": "784afd10",
   "metadata": {},
   "source": [
    "### Question7\n",
    "\n",
    "What module contains Pillow's shape-drawing code?\n",
    "\n",
    "### Answer:-\n",
    "\n",
    "`ImageDraw` contains Pillow's shape-drawing."
   ]
  },
  {
   "cell_type": "markdown",
   "id": "f29dcf2c",
   "metadata": {},
   "source": [
    "### Question8\n",
    "\n",
    "Image objects do not have drawing methods. What kind of object does? how do you get this kind of object?\n",
    "\n",
    "### Answer:- \n",
    "\n",
    "`ImageDraw` contains drawing method and we can import this method `from PIL import ImageDraw`. It have `Draw`, `line` and etc types of objects."
   ]
  }
 ],
 "metadata": {
  "kernelspec": {
   "display_name": "Python 3 (ipykernel)",
   "language": "python",
   "name": "python3"
  },
  "language_info": {
   "codemirror_mode": {
    "name": "ipython",
    "version": 3
   },
   "file_extension": ".py",
   "mimetype": "text/x-python",
   "name": "python",
   "nbconvert_exporter": "python",
   "pygments_lexer": "ipython3",
   "version": "3.8.11"
  }
 },
 "nbformat": 4,
 "nbformat_minor": 5
}
